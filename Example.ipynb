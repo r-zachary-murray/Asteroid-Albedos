{
 "cells": [
  {
   "cell_type": "code",
   "execution_count": 1,
   "id": "def53184-df29-49f8-ada2-6846aec8e617",
   "metadata": {},
   "outputs": [],
   "source": [
    "# Import the necessary modules and libraries\n",
    "import pandas as pd\n",
    "import numpy as np\n",
    "import pickle\n",
    "import glob\n",
    "import tensorflow as tf\n",
    "from tensorflow import keras\n",
    "from tensorflow.keras.layers import Flatten\n",
    "from sklearn.preprocessing import MinMaxScaler"
   ]
  },
  {
   "cell_type": "code",
   "execution_count": 2,
   "id": "1e6c3e8d-295a-48fa-bce9-9ba1c0c50406",
   "metadata": {},
   "outputs": [],
   "source": [
    "#define some helper functions\n",
    "def create_model(N):\n",
    "    model = keras.Sequential()\n",
    "    model.add(keras.layers.Dense(units = 3, activation = 'linear', input_shape=[3]))\n",
    "    for i in range(N):\n",
    "        model.add(keras.layers.Dense(units = 64, activation = 'relu')) #elu might also be good\n",
    "    model.add(keras.layers.Dense(units = 1, activation = 'linear'))\n",
    "    model.compile(loss='mse', optimizer=\"adam\")\n",
    "    return model\n",
    "\n",
    "def scale_data(unscaled_x):\n",
    "    with open('scaler.pkl', 'rb') as handle:\n",
    "        scaler = pickle.load(handle)\n",
    "    return scaler.transform(unscaled_x)\n",
    "\n",
    "def fit_ensemble(vispath,unscaled_x):\n",
    "    tf.get_logger().setLevel('ERROR')\n",
    "    models = glob.glob(vispath+'/*')                         \n",
    "    scaled_x = scale_data(unscaled_x)\n",
    "    allpreds = []\n",
    "    for i in range(len(models)):\n",
    "        new_model = create_model(6)\n",
    "        new_model.load_weights(models[i]) #get corresponding file\n",
    "        pred_log_albedos = new_model.predict(scaled_x).flatten()#return prediction for sorted input\n",
    "        allpreds.append(pred_log_albedos)\n",
    "    allpreds = np.array(allpreds)\n",
    "    return np.mean(allpreds,axis=0), np.std(allpreds,axis=0)\n",
    "\n",
    "def fit_belt(model,unscaled_x):\n",
    "    scaled_x = scale_data(unscaled_x)\n",
    "    new_model = create_model(6)\n",
    "    new_model.load_weights(model) #get corresponding file\n",
    "    pred = new_model.predict(scaled_x).flatten()#return prediction for sorted input\n",
    "    return pred * np.sqrt(np.pi/2)\n"
   ]
  },
  {
   "cell_type": "markdown",
   "id": "cdd89825-2cbc-4eae-a6db-250565ec00dd",
   "metadata": {},
   "source": [
    "### Let's compare the neural net to the catalog\n",
    "\n",
    "The proper elements of 3 Juno are, a = 2.66929, e = 0.2320, sin(I) = 0.2308\n",
    "\n",
    "The proper elements of 5 Astraea are, a = 2.57621, e = 0.2278, sin(I) = 0.0788"
   ]
  },
  {
   "cell_type": "code",
   "execution_count": 3,
   "id": "6a8fbcff-250a-4f94-9a7a-fb8b393736eb",
   "metadata": {},
   "outputs": [],
   "source": [
    "elements = np.array([[2.66929, 0.2320, 0.2308],[2.57621,0.2278,0.0788]])"
   ]
  },
  {
   "cell_type": "markdown",
   "id": "ea1897f2-5c99-49ea-944c-7a303d542c7e",
   "metadata": {},
   "source": [
    "### We can fit the just the visible or infrared ensenbles individually by providing the elements and the location of the ensemble weights"
   ]
  },
  {
   "cell_type": "code",
   "execution_count": 4,
   "id": "e9fc37b0-1f96-41ab-8853-af6568a823d4",
   "metadata": {},
   "outputs": [
    {
     "data": {
      "text/plain": [
       "(array([-0.7735125, -0.8591196], dtype=float32),\n",
       " array([0.05978905, 0.04262035], dtype=float32))"
      ]
     },
     "execution_count": 4,
     "metadata": {},
     "output_type": "execute_result"
    }
   ],
   "source": [
    "fit_ensemble('./vis_ensemble',elements)"
   ]
  },
  {
   "cell_type": "markdown",
   "id": "aa82564b-33da-42d5-a49b-e47608db8833",
   "metadata": {},
   "source": [
    "### We can also find the standard deviation of the belt wrt either albedo, by pointing to the correct weight file"
   ]
  },
  {
   "cell_type": "code",
   "execution_count": 5,
   "id": "d2b26229-f693-4382-a02c-217683de5b5a",
   "metadata": {},
   "outputs": [
    {
     "data": {
      "text/plain": [
       "array([0.31164357, 0.4230555 ], dtype=float32)"
      ]
     },
     "execution_count": 5,
     "metadata": {},
     "output_type": "execute_result"
    }
   ],
   "source": [
    "fit_belt('./std_belt_models/bestmodel_vis.h5',elements)"
   ]
  },
  {
   "cell_type": "markdown",
   "id": "a5228db4-bcd2-4298-a25e-4ee1c684c49d",
   "metadata": {},
   "source": [
    "### finally we can compare this to the cataloge and see they are identical to the values for asteroids number 3 & 5"
   ]
  },
  {
   "cell_type": "code",
   "execution_count": 8,
   "id": "9f81581c-70e2-4555-aaf5-68b8a7719a36",
   "metadata": {},
   "outputs": [
    {
     "data": {
      "text/html": [
       "<div>\n",
       "<style scoped>\n",
       "    .dataframe tbody tr th:only-of-type {\n",
       "        vertical-align: middle;\n",
       "    }\n",
       "\n",
       "    .dataframe tbody tr th {\n",
       "        vertical-align: top;\n",
       "    }\n",
       "\n",
       "    .dataframe thead th {\n",
       "        text-align: right;\n",
       "    }\n",
       "</style>\n",
       "<table border=\"1\" class=\"dataframe\">\n",
       "  <thead>\n",
       "    <tr style=\"text-align: right;\">\n",
       "      <th></th>\n",
       "      <th>no</th>\n",
       "      <th>sigma_pred_vis</th>\n",
       "      <th>pred_vis</th>\n",
       "      <th>sigma_belt_vis</th>\n",
       "      <th>sigma_pred_ir</th>\n",
       "      <th>pred_ir</th>\n",
       "      <th>sigma_belt_ir</th>\n",
       "    </tr>\n",
       "  </thead>\n",
       "  <tbody>\n",
       "    <tr>\n",
       "      <th>1</th>\n",
       "      <td>3</td>\n",
       "      <td>0.059789</td>\n",
       "      <td>-0.773513</td>\n",
       "      <td>0.311644</td>\n",
       "      <td>0.060646</td>\n",
       "      <td>-0.598993</td>\n",
       "      <td>0.321617</td>\n",
       "    </tr>\n",
       "    <tr>\n",
       "      <th>2</th>\n",
       "      <td>4</td>\n",
       "      <td>0.029367</td>\n",
       "      <td>-0.495357</td>\n",
       "      <td>0.154884</td>\n",
       "      <td>0.028580</td>\n",
       "      <td>-0.323304</td>\n",
       "      <td>0.120736</td>\n",
       "    </tr>\n",
       "    <tr>\n",
       "      <th>3</th>\n",
       "      <td>5</td>\n",
       "      <td>0.042620</td>\n",
       "      <td>-0.859120</td>\n",
       "      <td>0.423056</td>\n",
       "      <td>0.041148</td>\n",
       "      <td>-0.682643</td>\n",
       "      <td>0.401361</td>\n",
       "    </tr>\n",
       "  </tbody>\n",
       "</table>\n",
       "</div>"
      ],
      "text/plain": [
       "   no  sigma_pred_vis  pred_vis  sigma_belt_vis  sigma_pred_ir   pred_ir  \\\n",
       "1   3        0.059789 -0.773513        0.311644       0.060646 -0.598993   \n",
       "2   4        0.029367 -0.495357        0.154884       0.028580 -0.323304   \n",
       "3   5        0.042620 -0.859120        0.423056       0.041148 -0.682643   \n",
       "\n",
       "   sigma_belt_ir  \n",
       "1       0.321617  \n",
       "2       0.120736  \n",
       "3       0.401361  "
      ]
     },
     "execution_count": 8,
     "metadata": {},
     "output_type": "execute_result"
    }
   ],
   "source": [
    "pd.read_csv('final_catalogue.csv').iloc[1:4,:]"
   ]
  },
  {
   "cell_type": "code",
   "execution_count": null,
   "id": "aebdaa90-731f-4da4-9946-2e02f351e8ed",
   "metadata": {},
   "outputs": [],
   "source": []
  },
  {
   "cell_type": "code",
   "execution_count": null,
   "id": "478fbb98-b14b-475d-9480-cad77496e91d",
   "metadata": {},
   "outputs": [],
   "source": []
  },
  {
   "cell_type": "code",
   "execution_count": null,
   "id": "1dd2fe64-5b93-431c-88bf-2c52235e41f7",
   "metadata": {},
   "outputs": [],
   "source": []
  },
  {
   "cell_type": "code",
   "execution_count": null,
   "id": "d5317aa9-8aed-4f58-aeaa-77815aeca61c",
   "metadata": {},
   "outputs": [],
   "source": []
  },
  {
   "cell_type": "code",
   "execution_count": null,
   "id": "2393ed41-c403-44a5-a331-6ca632d3e876",
   "metadata": {},
   "outputs": [],
   "source": []
  },
  {
   "cell_type": "code",
   "execution_count": null,
   "id": "8ec89463-8eda-4f8a-823a-cd3b63be4ae3",
   "metadata": {},
   "outputs": [],
   "source": []
  }
 ],
 "metadata": {
  "kernelspec": {
   "display_name": "Python 3",
   "language": "python",
   "name": "python3"
  },
  "language_info": {
   "codemirror_mode": {
    "name": "ipython",
    "version": 3
   },
   "file_extension": ".py",
   "mimetype": "text/x-python",
   "name": "python",
   "nbconvert_exporter": "python",
   "pygments_lexer": "ipython3",
   "version": "3.6.9"
  }
 },
 "nbformat": 4,
 "nbformat_minor": 5
}
