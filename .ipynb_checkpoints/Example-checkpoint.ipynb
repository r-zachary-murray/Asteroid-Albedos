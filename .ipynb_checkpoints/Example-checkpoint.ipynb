{
 "cells": [
  {
   "cell_type": "code",
   "execution_count": 1,
   "id": "def53184-df29-49f8-ada2-6846aec8e617",
   "metadata": {},
   "outputs": [],
   "source": [
    "# Import the necessary modules and libraries\n",
    "import pandas as pd\n",
    "import numpy as np\n",
    "import pickle\n",
    "import glob\n",
    "import tensorflow as tf\n",
    "from tensorflow import keras\n",
    "from tensorflow.keras.layers import Flatten\n",
    "from sklearn.preprocessing import MinMaxScaler"
   ]
  },
  {
   "cell_type": "code",
   "execution_count": 2,
   "id": "1e6c3e8d-295a-48fa-bce9-9ba1c0c50406",
   "metadata": {},
   "outputs": [],
   "source": [
    "#define some helper functions\n",
    "def create_model(N):\n",
    "    model = keras.Sequential()\n",
    "    model.add(keras.layers.Dense(units = 3, activation = 'linear', input_shape=[3]))\n",
    "    for i in range(N):\n",
    "        model.add(keras.layers.Dense(units = 64, activation = 'relu')) #elu might also be good\n",
    "    model.add(keras.layers.Dense(units = 1, activation = 'linear'))\n",
    "    model.compile(loss='mse', optimizer=\"adam\")\n",
    "    return model\n",
    "\n",
    "def scale_data(unscaled_x):\n",
    "    with open('scaler.pkl', 'rb') as handle:\n",
    "        scaler = pickle.load(handle)\n",
    "    return scaler.transform(unscaled_x)\n",
    "\n",
    "def fit_ensemble(vispath,unscaled_x):\n",
    "    tf.get_logger().setLevel('ERROR')\n",
    "    models = glob.glob(vispath+'/*')                         \n",
    "    scaled_x = scale_data(unscaled_x)\n",
    "    allpreds = []\n",
    "    for i in range(len(models)):\n",
    "        new_model = create_model(6)\n",
    "        new_model.load_weights(models[i]) #get corresponding file\n",
    "        pred_log_albedos = new_model.predict(scaled_x).flatten()#return prediction for sorted input\n",
    "        allpreds.append(pred_log_albedos)\n",
    "    allpreds = np.array(allpreds)\n",
    "    return np.mean(allpreds,axis=0), np.std(allpreds,axis=0)\n",
    "\n",
    "def fit_belt(model,unscaled_x):\n",
    "    scaled_x = scale_data(unscaled_x)\n",
    "    new_model = create_model(6)\n",
    "    new_model.load_weights(model) #get corresponding file\n",
    "    pred = new_model.predict(scaled_x).flatten()#return prediction for sorted input\n",
    "    return pred * np.sqrt(np.pi/2)\n"
   ]
  },
  {
   "cell_type": "markdown",
   "id": "cdd89825-2cbc-4eae-a6db-250565ec00dd",
   "metadata": {},
   "source": [
    "### Let's compare the neural net to the catalog\n",
    "\n",
    "The proper elements of 3 Juno are, a = 2.66929, e = 0.2320, sin(I) = 0.2308\n",
    "\n",
    "The proper elements of 5 Astraea are, a = 2.57621, e = 0.2278, sin(I) = 0.0788"
   ]
  },
  {
   "cell_type": "code",
   "execution_count": 3,
   "id": "6a8fbcff-250a-4f94-9a7a-fb8b393736eb",
   "metadata": {},
   "outputs": [],
   "source": [
    "elements = np.array([[2.66929, 0.2320, 0.2308],[2.57621,0.2278,0.0788]])"
   ]
  },
  {
   "cell_type": "markdown",
   "id": "ea1897f2-5c99-49ea-944c-7a303d542c7e",
   "metadata": {},
   "source": [
    "### We can fit the just the visible or infrared ensenbles individually by providing the elements and the location of the ensemble weights"
   ]
  },
  {
   "cell_type": "code",
   "execution_count": null,
   "id": "e9fc37b0-1f96-41ab-8853-af6568a823d4",
   "metadata": {},
   "outputs": [],
   "source": [
    "fit_ensemble('./vis_ensemble',elements)"
   ]
  },
  {
   "cell_type": "markdown",
   "id": "aa82564b-33da-42d5-a49b-e47608db8833",
   "metadata": {},
   "source": [
    "### We can also find the standard deviation of the belt wrt either albedo, by pointing to the correct weight file"
   ]
  },
  {
   "cell_type": "code",
   "execution_count": null,
   "id": "d2b26229-f693-4382-a02c-217683de5b5a",
   "metadata": {},
   "outputs": [],
   "source": [
    "fit_belt('./std_belt_models/bestmodel_vis.h5',elements)"
   ]
  },
  {
   "cell_type": "markdown",
   "id": "a5228db4-bcd2-4298-a25e-4ee1c684c49d",
   "metadata": {},
   "source": [
    "### finally we can compare this to the cataloge and see they are identical"
   ]
  },
  {
   "cell_type": "code",
   "execution_count": null,
   "id": "9f81581c-70e2-4555-aaf5-68b8a7719a36",
   "metadata": {},
   "outputs": [],
   "source": [
    "pd.read_csv('final_catalogue.csv').iloc[1:4,:]"
   ]
  },
  {
   "cell_type": "code",
   "execution_count": null,
   "id": "aebdaa90-731f-4da4-9946-2e02f351e8ed",
   "metadata": {},
   "outputs": [],
   "source": []
  },
  {
   "cell_type": "code",
   "execution_count": null,
   "id": "478fbb98-b14b-475d-9480-cad77496e91d",
   "metadata": {},
   "outputs": [],
   "source": []
  },
  {
   "cell_type": "code",
   "execution_count": null,
   "id": "1dd2fe64-5b93-431c-88bf-2c52235e41f7",
   "metadata": {},
   "outputs": [],
   "source": []
  },
  {
   "cell_type": "code",
   "execution_count": null,
   "id": "d5317aa9-8aed-4f58-aeaa-77815aeca61c",
   "metadata": {},
   "outputs": [],
   "source": []
  },
  {
   "cell_type": "code",
   "execution_count": null,
   "id": "2393ed41-c403-44a5-a331-6ca632d3e876",
   "metadata": {},
   "outputs": [],
   "source": []
  },
  {
   "cell_type": "code",
   "execution_count": null,
   "id": "8ec89463-8eda-4f8a-823a-cd3b63be4ae3",
   "metadata": {},
   "outputs": [],
   "source": []
  }
 ],
 "metadata": {
  "kernelspec": {
   "display_name": "Python 3",
   "language": "python",
   "name": "python3"
  },
  "language_info": {
   "codemirror_mode": {
    "name": "ipython",
    "version": 3
   },
   "file_extension": ".py",
   "mimetype": "text/x-python",
   "name": "python",
   "nbconvert_exporter": "python",
   "pygments_lexer": "ipython3",
   "version": "3.6.9"
  }
 },
 "nbformat": 4,
 "nbformat_minor": 5
}
